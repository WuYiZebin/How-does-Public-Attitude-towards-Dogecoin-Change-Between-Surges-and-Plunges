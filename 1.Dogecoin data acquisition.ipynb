{
 "cells": [
  {
   "cell_type": "code",
   "execution_count": 75,
   "metadata": {},
   "outputs": [],
   "source": [
    "# import packages we need \n",
    "from selenium import webdriver\n",
    "from selenium.webdriver.support import expected_conditions as EC\n",
    "from selenium.webdriver.support.ui import WebDriverWait\n",
    "from selenium.webdriver.common.by import By\n",
    "from bs4 import BeautifulSoup\n",
    "import time\n",
    "import pandas as pd"
   ]
  },
  {
   "cell_type": "code",
   "execution_count": 76,
   "metadata": {},
   "outputs": [
    {
     "name": "stderr",
     "output_type": "stream",
     "text": [
      "<ipython-input-76-3e3640b52537>:1: DeprecationWarning: executable_path has been deprecated, please pass in a Service object\n",
      "  driver = webdriver.Chrome('/Users/lixinzhe/Desktop/COM5507/chromedriver')\n"
     ]
    }
   ],
   "source": [
    "# use selenium open Chrome and input url\n",
    "driver = webdriver.Chrome('/chromedriver')\n",
    "driver.get(\"https://login.sina.com.cn/signup/signin.php\")"
   ]
  },
  {
   "cell_type": "code",
   "execution_count": 77,
   "metadata": {},
   "outputs": [
    {
     "name": "stderr",
     "output_type": "stream",
     "text": [
      "<ipython-input-77-ec282ed269a4>:1: DeprecationWarning: find_element_by_* commands are deprecated. Please use find_element() instead\n",
      "  s_input = driver.find_element_by_css_selector('#search_input')\n",
      "<ipython-input-77-ec282ed269a4>:5: DeprecationWarning: find_element_by_* commands are deprecated. Please use find_element() instead\n",
      "  confirm_btn = driver.find_element_by_css_selector('#search_submit')\n"
     ]
    }
   ],
   "source": [
    "# enter the search keyword\n",
    "s_input = driver.find_element_by_css_selector('#search_input')\n",
    "s_input.send_keys(\"狗狗币\")\n",
    "confirm_btn = driver.find_element_by_css_selector('#search_submit')\n",
    "confirm_btn.click()"
   ]
  },
  {
   "cell_type": "code",
   "execution_count": 78,
   "metadata": {},
   "outputs": [
    {
     "name": "stderr",
     "output_type": "stream",
     "text": [
      "<ipython-input-78-836d3e0b904e>:3: DeprecationWarning: find_element_by_* commands are deprecated. Please use find_element() instead\n",
      "  Advanced = driver.find_element_by_css_selector(\"#pl_feedtop_top\")\n"
     ]
    }
   ],
   "source": [
    "# click on the \"Advanced Search\" button\n",
    "driver.switch_to.window(driver.window_handles[-1])\n",
    "Advanced = driver.find_element_by_css_selector(\"#pl_feedtop_top\")\n",
    "Advanced.click()"
   ]
  },
  {
   "cell_type": "code",
   "execution_count": 79,
   "metadata": {},
   "outputs": [
    {
     "name": "stderr",
     "output_type": "stream",
     "text": [
      "<ipython-input-79-e636e04f1b5e>:2: DeprecationWarning: find_element_by_* commands are deprecated. Please use find_element() instead\n",
      "  Hot = driver.find_element_by_css_selector(\"#radio02\")\n"
     ]
    }
   ],
   "source": [
    "# click on \"Popular\"\n",
    "Hot = driver.find_element_by_css_selector(\"#radio02\")\n",
    "Hot.click()\n",
    "# enter the time manually here and click Search"
   ]
  },
  {
   "cell_type": "code",
   "execution_count": 80,
   "metadata": {
    "scrolled": true
   },
   "outputs": [
    {
     "name": "stderr",
     "output_type": "stream",
     "text": [
      "<ipython-input-80-ea5156190574>:10: DeprecationWarning: find_elements_by_* commands are deprecated. Please use find_elements() instead\n",
      "  nodes = driver.find_elements_by_css_selector('div.card > div.card-feed > div.content')\n"
     ]
    },
    {
     "name": "stdout",
     "output_type": "stream",
     "text": [
      "16\n"
     ]
    }
   ],
   "source": [
    "# create list to save elements\n",
    "comment = []\n",
    "username = []\n",
    "datentime = []\n",
    "\n",
    "# capture nodes: each comment is a node\n",
    "nodes = driver.find_elements_by_css_selector('div.card > div.card-feed > div.content')\n",
    "print(len(nodes))\n",
    "\n",
    "# loop operation for each node on the first page\n",
    "for i in range(0, len(nodes), 1):\n",
    "    # determine if each node has a \"expand full text\" link\n",
    "    flag = False\n",
    "    try:\n",
    "        nodes[i].find_element_by_css_selector(\"p>a[action-type='fl_unfold']\").is_displayed()\n",
    "        flag = True\n",
    "    except:\n",
    "        flag = False\n",
    "    if (flag and nodes[i].find_element_by_css_selector(\"p>a[action-type='fl_unfold']\").text.startswith('展开c')):\n",
    "        nodes[i].find_element_by_css_selector(\"p>a[action-type='fl_unfold']\").click()\n",
    "        comment.append(nodes[i].find_element_by_css_selector('p[node-type=\"feed_list_content_full\"]').text)   \n",
    "    else:\n",
    "        comment.append(nodes[i].find_element_by_css_selector('p[node-type=\"feed_list_content\"]').text)\n",
    "      \n",
    "    username.append(nodes[i].find_element_by_css_selector(\"div.info>div:nth-child(2)>a\").text)\n",
    "    datentime.append(nodes[i].find_element_by_css_selector(\"p.from\").text)"
   ]
  },
  {
   "cell_type": "code",
   "execution_count": 81,
   "metadata": {},
   "outputs": [
    {
     "name": "stdout",
     "output_type": "stream",
     "text": [
      "0\n"
     ]
    },
    {
     "name": "stderr",
     "output_type": "stream",
     "text": [
      "<ipython-input-81-7e184dd2a0fc>:4: DeprecationWarning: find_element_by_* commands are deprecated. Please use find_element() instead\n",
      "  nextpage_button = driver.find_element_by_link_text('下一页')\n",
      "<ipython-input-81-7e184dd2a0fc>:9: DeprecationWarning: find_elements_by_* commands are deprecated. Please use find_elements() instead\n",
      "  nodes1 = driver.find_elements_by_css_selector('div.card > div.card-feed > div.content')\n"
     ]
    },
    {
     "name": "stdout",
     "output_type": "stream",
     "text": [
      "1\n",
      "2\n",
      "3\n",
      "4\n"
     ]
    },
    {
     "ename": "NoSuchElementException",
     "evalue": "Message: no such element: Unable to locate element: {\"method\":\"link text\",\"selector\":\"下一页\"}\n  (Session info: chrome=95.0.4638.69)\nStacktrace:\n0   chromedriver                        0x00000001052084fc chromedriver + 2540796\n1   chromedriver                        0x000000010579e070 chromedriver + 8396912\n2   chromedriver                        0x0000000104fc5860 chromedriver + 170080\n3   chromedriver                        0x0000000104ff4a88 chromedriver + 363144\n4   chromedriver                        0x000000010501d784 chromedriver + 530308\n5   chromedriver                        0x0000000104fe9ec0 chromedriver + 319168\n6   chromedriver                        0x00000001051d502c chromedriver + 2330668\n7   chromedriver                        0x00000001051e50f4 chromedriver + 2396404\n8   chromedriver                        0x00000001051bb688 chromedriver + 2225800\n9   chromedriver                        0x00000001051e5fd8 chromedriver + 2400216\n10  chromedriver                        0x00000001051cb80c chromedriver + 2291724\n11  chromedriver                        0x00000001051fcca4 chromedriver + 2493604\n12  chromedriver                        0x00000001051fce18 chromedriver + 2493976\n13  chromedriver                        0x000000010520ce9c chromedriver + 2559644\n14  libsystem_pthread.dylib             0x0000000185813878 _pthread_start + 320\n15  libsystem_pthread.dylib             0x000000018580e5e0 thread_start + 8\n",
     "output_type": "error",
     "traceback": [
      "\u001b[0;31m---------------------------------------------------------------------------\u001b[0m",
      "\u001b[0;31mNoSuchElementException\u001b[0m                    Traceback (most recent call last)",
      "\u001b[0;32m<ipython-input-81-7e184dd2a0fc>\u001b[0m in \u001b[0;36m<module>\u001b[0;34m\u001b[0m\n\u001b[1;32m      2\u001b[0m \u001b[0;32mfor\u001b[0m \u001b[0mpage\u001b[0m \u001b[0;32min\u001b[0m \u001b[0mrange\u001b[0m\u001b[0;34m(\u001b[0m\u001b[0;36m6\u001b[0m\u001b[0;34m)\u001b[0m\u001b[0;34m:\u001b[0m\u001b[0;34m\u001b[0m\u001b[0;34m\u001b[0m\u001b[0m\n\u001b[1;32m      3\u001b[0m     \u001b[0mprint\u001b[0m\u001b[0;34m(\u001b[0m\u001b[0mpage\u001b[0m\u001b[0;34m)\u001b[0m\u001b[0;34m\u001b[0m\u001b[0;34m\u001b[0m\u001b[0m\n\u001b[0;32m----> 4\u001b[0;31m     \u001b[0mnextpage_button\u001b[0m \u001b[0;34m=\u001b[0m \u001b[0mdriver\u001b[0m\u001b[0;34m.\u001b[0m\u001b[0mfind_element_by_link_text\u001b[0m\u001b[0;34m(\u001b[0m\u001b[0;34m'下一页'\u001b[0m\u001b[0;34m)\u001b[0m\u001b[0;34m\u001b[0m\u001b[0;34m\u001b[0m\u001b[0m\n\u001b[0m\u001b[1;32m      5\u001b[0m \u001b[0;34m\u001b[0m\u001b[0m\n\u001b[1;32m      6\u001b[0m     \u001b[0mdriver\u001b[0m\u001b[0;34m.\u001b[0m\u001b[0mexecute_script\u001b[0m\u001b[0;34m(\u001b[0m\u001b[0;34m\"arguments[0].click();\"\u001b[0m\u001b[0;34m,\u001b[0m \u001b[0mnextpage_button\u001b[0m\u001b[0;34m)\u001b[0m\u001b[0;34m\u001b[0m\u001b[0;34m\u001b[0m\u001b[0m\n",
      "\u001b[0;32m~/opt/anaconda3/lib/python3.8/site-packages/selenium/webdriver/remote/webdriver.py\u001b[0m in \u001b[0;36mfind_element_by_link_text\u001b[0;34m(self, link_text)\u001b[0m\n\u001b[1;32m    560\u001b[0m             \u001b[0mstacklevel\u001b[0m\u001b[0;34m=\u001b[0m\u001b[0;36m2\u001b[0m\u001b[0;34m,\u001b[0m\u001b[0;34m\u001b[0m\u001b[0;34m\u001b[0m\u001b[0m\n\u001b[1;32m    561\u001b[0m         )\n\u001b[0;32m--> 562\u001b[0;31m         \u001b[0;32mreturn\u001b[0m \u001b[0mself\u001b[0m\u001b[0;34m.\u001b[0m\u001b[0mfind_element\u001b[0m\u001b[0;34m(\u001b[0m\u001b[0mby\u001b[0m\u001b[0;34m=\u001b[0m\u001b[0mBy\u001b[0m\u001b[0;34m.\u001b[0m\u001b[0mLINK_TEXT\u001b[0m\u001b[0;34m,\u001b[0m \u001b[0mvalue\u001b[0m\u001b[0;34m=\u001b[0m\u001b[0mlink_text\u001b[0m\u001b[0;34m)\u001b[0m\u001b[0;34m\u001b[0m\u001b[0;34m\u001b[0m\u001b[0m\n\u001b[0m\u001b[1;32m    563\u001b[0m \u001b[0;34m\u001b[0m\u001b[0m\n\u001b[1;32m    564\u001b[0m     \u001b[0;32mdef\u001b[0m \u001b[0mfind_elements_by_link_text\u001b[0m\u001b[0;34m(\u001b[0m\u001b[0mself\u001b[0m\u001b[0;34m,\u001b[0m \u001b[0mtext\u001b[0m\u001b[0;34m)\u001b[0m \u001b[0;34m->\u001b[0m \u001b[0mWebElement\u001b[0m\u001b[0;34m:\u001b[0m\u001b[0;34m\u001b[0m\u001b[0;34m\u001b[0m\u001b[0m\n",
      "\u001b[0;32m~/opt/anaconda3/lib/python3.8/site-packages/selenium/webdriver/remote/webdriver.py\u001b[0m in \u001b[0;36mfind_element\u001b[0;34m(self, by, value)\u001b[0m\n\u001b[1;32m   1236\u001b[0m             \u001b[0mvalue\u001b[0m \u001b[0;34m=\u001b[0m \u001b[0;34m'[name=\"%s\"]'\u001b[0m \u001b[0;34m%\u001b[0m \u001b[0mvalue\u001b[0m\u001b[0;34m\u001b[0m\u001b[0;34m\u001b[0m\u001b[0m\n\u001b[1;32m   1237\u001b[0m \u001b[0;34m\u001b[0m\u001b[0m\n\u001b[0;32m-> 1238\u001b[0;31m         return self.execute(Command.FIND_ELEMENT, {\n\u001b[0m\u001b[1;32m   1239\u001b[0m             \u001b[0;34m'using'\u001b[0m\u001b[0;34m:\u001b[0m \u001b[0mby\u001b[0m\u001b[0;34m,\u001b[0m\u001b[0;34m\u001b[0m\u001b[0;34m\u001b[0m\u001b[0m\n\u001b[1;32m   1240\u001b[0m             'value': value})['value']\n",
      "\u001b[0;32m~/opt/anaconda3/lib/python3.8/site-packages/selenium/webdriver/remote/webdriver.py\u001b[0m in \u001b[0;36mexecute\u001b[0;34m(self, driver_command, params)\u001b[0m\n\u001b[1;32m    416\u001b[0m         \u001b[0mresponse\u001b[0m \u001b[0;34m=\u001b[0m \u001b[0mself\u001b[0m\u001b[0;34m.\u001b[0m\u001b[0mcommand_executor\u001b[0m\u001b[0;34m.\u001b[0m\u001b[0mexecute\u001b[0m\u001b[0;34m(\u001b[0m\u001b[0mdriver_command\u001b[0m\u001b[0;34m,\u001b[0m \u001b[0mparams\u001b[0m\u001b[0;34m)\u001b[0m\u001b[0;34m\u001b[0m\u001b[0;34m\u001b[0m\u001b[0m\n\u001b[1;32m    417\u001b[0m         \u001b[0;32mif\u001b[0m \u001b[0mresponse\u001b[0m\u001b[0;34m:\u001b[0m\u001b[0;34m\u001b[0m\u001b[0;34m\u001b[0m\u001b[0m\n\u001b[0;32m--> 418\u001b[0;31m             \u001b[0mself\u001b[0m\u001b[0;34m.\u001b[0m\u001b[0merror_handler\u001b[0m\u001b[0;34m.\u001b[0m\u001b[0mcheck_response\u001b[0m\u001b[0;34m(\u001b[0m\u001b[0mresponse\u001b[0m\u001b[0;34m)\u001b[0m\u001b[0;34m\u001b[0m\u001b[0;34m\u001b[0m\u001b[0m\n\u001b[0m\u001b[1;32m    419\u001b[0m             response['value'] = self._unwrap_value(\n\u001b[1;32m    420\u001b[0m                 response.get('value', None))\n",
      "\u001b[0;32m~/opt/anaconda3/lib/python3.8/site-packages/selenium/webdriver/remote/errorhandler.py\u001b[0m in \u001b[0;36mcheck_response\u001b[0;34m(self, response)\u001b[0m\n\u001b[1;32m    241\u001b[0m                 \u001b[0malert_text\u001b[0m \u001b[0;34m=\u001b[0m \u001b[0mvalue\u001b[0m\u001b[0;34m[\u001b[0m\u001b[0;34m'alert'\u001b[0m\u001b[0;34m]\u001b[0m\u001b[0;34m.\u001b[0m\u001b[0mget\u001b[0m\u001b[0;34m(\u001b[0m\u001b[0;34m'text'\u001b[0m\u001b[0;34m)\u001b[0m\u001b[0;34m\u001b[0m\u001b[0;34m\u001b[0m\u001b[0m\n\u001b[1;32m    242\u001b[0m             \u001b[0;32mraise\u001b[0m \u001b[0mexception_class\u001b[0m\u001b[0;34m(\u001b[0m\u001b[0mmessage\u001b[0m\u001b[0;34m,\u001b[0m \u001b[0mscreen\u001b[0m\u001b[0;34m,\u001b[0m \u001b[0mstacktrace\u001b[0m\u001b[0;34m,\u001b[0m \u001b[0malert_text\u001b[0m\u001b[0;34m)\u001b[0m  \u001b[0;31m# type: ignore[call-arg]  # mypy is not smart enough here\u001b[0m\u001b[0;34m\u001b[0m\u001b[0;34m\u001b[0m\u001b[0m\n\u001b[0;32m--> 243\u001b[0;31m         \u001b[0;32mraise\u001b[0m \u001b[0mexception_class\u001b[0m\u001b[0;34m(\u001b[0m\u001b[0mmessage\u001b[0m\u001b[0;34m,\u001b[0m \u001b[0mscreen\u001b[0m\u001b[0;34m,\u001b[0m \u001b[0mstacktrace\u001b[0m\u001b[0;34m)\u001b[0m\u001b[0;34m\u001b[0m\u001b[0;34m\u001b[0m\u001b[0m\n\u001b[0m\u001b[1;32m    244\u001b[0m \u001b[0;34m\u001b[0m\u001b[0m\n\u001b[1;32m    245\u001b[0m     \u001b[0;32mdef\u001b[0m \u001b[0m_value_or_default\u001b[0m\u001b[0;34m(\u001b[0m\u001b[0mself\u001b[0m\u001b[0;34m,\u001b[0m \u001b[0mobj\u001b[0m\u001b[0;34m:\u001b[0m \u001b[0mMapping\u001b[0m\u001b[0;34m[\u001b[0m\u001b[0m_KT\u001b[0m\u001b[0;34m,\u001b[0m \u001b[0m_VT\u001b[0m\u001b[0;34m]\u001b[0m\u001b[0;34m,\u001b[0m \u001b[0mkey\u001b[0m\u001b[0;34m:\u001b[0m \u001b[0m_KT\u001b[0m\u001b[0;34m,\u001b[0m \u001b[0mdefault\u001b[0m\u001b[0;34m:\u001b[0m \u001b[0m_VT\u001b[0m\u001b[0;34m)\u001b[0m \u001b[0;34m->\u001b[0m \u001b[0m_VT\u001b[0m\u001b[0;34m:\u001b[0m\u001b[0;34m\u001b[0m\u001b[0;34m\u001b[0m\u001b[0m\n",
      "\u001b[0;31mNoSuchElementException\u001b[0m: Message: no such element: Unable to locate element: {\"method\":\"link text\",\"selector\":\"下一页\"}\n  (Session info: chrome=95.0.4638.69)\nStacktrace:\n0   chromedriver                        0x00000001052084fc chromedriver + 2540796\n1   chromedriver                        0x000000010579e070 chromedriver + 8396912\n2   chromedriver                        0x0000000104fc5860 chromedriver + 170080\n3   chromedriver                        0x0000000104ff4a88 chromedriver + 363144\n4   chromedriver                        0x000000010501d784 chromedriver + 530308\n5   chromedriver                        0x0000000104fe9ec0 chromedriver + 319168\n6   chromedriver                        0x00000001051d502c chromedriver + 2330668\n7   chromedriver                        0x00000001051e50f4 chromedriver + 2396404\n8   chromedriver                        0x00000001051bb688 chromedriver + 2225800\n9   chromedriver                        0x00000001051e5fd8 chromedriver + 2400216\n10  chromedriver                        0x00000001051cb80c chromedriver + 2291724\n11  chromedriver                        0x00000001051fcca4 chromedriver + 2493604\n12  chromedriver                        0x00000001051fce18 chromedriver + 2493976\n13  chromedriver                        0x000000010520ce9c chromedriver + 2559644\n14  libsystem_pthread.dylib             0x0000000185813878 _pthread_start + 320\n15  libsystem_pthread.dylib             0x000000018580e5e0 thread_start + 8\n"
     ]
    }
   ],
   "source": [
    "# crawl the next nodes of each page and extract the information into the list\n",
    "for page in range(6):\n",
    "    print(page)\n",
    "    nextpage_button = driver.find_element_by_link_text('下一页')\n",
    "\n",
    "    driver.execute_script(\"arguments[0].click();\", nextpage_button)\n",
    "    wait = WebDriverWait(driver, 5)\n",
    "    \n",
    "    nodes1 = driver.find_elements_by_css_selector('div.card > div.card-feed > div.content')\n",
    "    for i in range(0, len(nodes1), 1):\n",
    "        flag = False\n",
    "        try:\n",
    "            nodes1[i].find_element_by_css_selector(\"p>a[action-type='fl_unfold']\").is_displayed()\n",
    "            flag = True\n",
    "\n",
    "        except:\n",
    "            flag = False\n",
    "        if (flag and nodes1[i].find_element_by_css_selector(\"p>a[action-type='fl_unfold']\").text.startswith('展开c')):\n",
    "            nodes1[i].find_element_by_css_selector(\"p>a[action-type='fl_unfold']\").click()\n",
    "            comment.append(nodes1[i].find_element_by_css_selector('p[node-type=\"feed_list_content_full\"]').text)\n",
    "        else:\n",
    "            comment.append(nodes1[i].find_element_by_css_selector('p[node-type=\"feed_list_content\"]').text)\n",
    "        username.append(nodes1[i].find_element_by_css_selector(\"div.info>div:nth-child(2)>a\").text)\n",
    "        datentime.append(nodes1[i].find_element_by_css_selector(\"p.from\").text)"
   ]
  },
  {
   "cell_type": "code",
   "execution_count": 82,
   "metadata": {},
   "outputs": [],
   "source": [
    "# save data to an excel file\n",
    "data = pd.DataFrame({'username': username, 'comment': comment, 'datentime': datentime})\n",
    "data.to_excel(\"狗狗币4.13-4.17.xlsx\")"
   ]
  },
  {
   "cell_type": "code",
   "execution_count": null,
   "metadata": {},
   "outputs": [],
   "source": []
  },
  {
   "cell_type": "code",
   "execution_count": null,
   "metadata": {},
   "outputs": [],
   "source": []
  }
 ],
 "metadata": {
  "kernelspec": {
   "display_name": "Python 3",
   "language": "python",
   "name": "python3"
  },
  "language_info": {
   "codemirror_mode": {
    "name": "ipython",
    "version": 3
   },
   "file_extension": ".py",
   "mimetype": "text/x-python",
   "name": "python",
   "nbconvert_exporter": "python",
   "pygments_lexer": "ipython3",
   "version": "3.8.8"
  },
  "toc": {
   "base_numbering": 1,
   "nav_menu": {},
   "number_sections": true,
   "sideBar": true,
   "skip_h1_title": false,
   "title_cell": "Table of Contents",
   "title_sidebar": "Contents",
   "toc_cell": false,
   "toc_position": {},
   "toc_section_display": true,
   "toc_window_display": false
  }
 },
 "nbformat": 4,
 "nbformat_minor": 2
}
