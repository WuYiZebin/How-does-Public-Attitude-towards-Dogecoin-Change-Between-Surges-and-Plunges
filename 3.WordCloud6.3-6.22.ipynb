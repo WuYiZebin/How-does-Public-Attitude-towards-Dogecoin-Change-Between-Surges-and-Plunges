{
 "cells": [
  {
   "cell_type": "code",
   "execution_count": 1,
   "id": "feaaff69",
   "metadata": {},
   "outputs": [
    {
     "name": "stdout",
     "output_type": "stream",
     "text": [
      "Collecting package metadata (current_repodata.json): done\n",
      "Solving environment: done\n",
      "\n",
      "# All requested packages already installed.\n",
      "\n",
      "\n",
      "Note: you may need to restart the kernel to use updated packages.\n"
     ]
    }
   ],
   "source": [
    "conda install -c conda-forge wordcloud"
   ]
  },
  {
   "cell_type": "code",
   "execution_count": 2,
   "id": "97f23955",
   "metadata": {},
   "outputs": [
    {
     "name": "stdout",
     "output_type": "stream",
     "text": [
      "Requirement already satisfied: jieba in /Users/jin/opt/anaconda3/lib/python3.8/site-packages (0.42.1)\r\n"
     ]
    }
   ],
   "source": [
    "!pip install jieba\n",
    "from wordcloud import WordCloud\n",
    "import PIL.Image as image\n",
    "import numpy as np\n",
    "import matplotlib.pyplot as plt\n",
    "import os\n",
    "from os import path\n",
    "import jieba"
   ]
  },
  {
   "cell_type": "code",
   "execution_count": 46,
   "id": "141e05d7",
   "metadata": {},
   "outputs": [],
   "source": [
    "path = r'/Users/jin/Desktop/SEM_A/5507-data-acquisition/Group-Assignment/last-coding/ciyuntu0603.csv'\n",
    "f = open(path,encoding='utf-8')\n",
    "txt = f.read()"
   ]
  },
  {
   "cell_type": "code",
   "execution_count": 47,
   "id": "d538770c",
   "metadata": {},
   "outputs": [
    {
     "data": {
      "text/plain": [
       "',words\\n0,科普\\n1,狗狗币\\n2,究竟\\n3,何方神圣\\n4,问世\\n5,币值\\n6,累计\\n7,涨幅\\n8,1923\\n9,倍\\n10,引起\\n11,无数\\n12,关注\\n13,看好\\n14,未来\\n15,发展\\n16,财经\\n17,狗狗币\\n18,愁\\n19,2021\\n20,科普\\n21,狗狗币\\n22,究竟\\n23,何方神圣\\n24,问世\\n25,币值\\n26,累计\\n27,涨幅\\n28,1923\\n29,倍\\n30,引起\\n31,无数\\n32,关注\\n33,看好\\n34,未来\\n35,发展\\n36,财经\\n37,狗狗币\\n38,愁\\n39,2021\\n40,狗狗币\\n41,神秘\\n42,男子\\n43,闯入\\n44,迈阿密\\n45,区块\\n46,链\\n47,大会\\n48,大喊\\n49,狗狗币\\n50,to\\n51,the\\n52,moon\\n53,比特币\\n54,毒奶\\n55,狗狗币\\n56,狗币\\n57,冲上\\n58,0.8\\n59,在场\\n60,每人\\n61,三百块\\n62,算\\n63,立贴\\n64,为证\\n65,灰度\\n66,狗狗币\\n67,附火币\\n68,注册\\n69,地址\\n70,网页\\n71,链接\\n72,生命\\n73,一场\\n74,永无休止\\n75,苦役\\n76,不要\\n77,惧怕\\n78,拒绝\\n79,困苦\\n80,超越\\n81,困苦\\n82,生活\\n83,强者\\n84,经历\\n85,一种\\n86,累积\\n87,累积\\n88,越\\n89,越\\n90,成熟\\n91,经历\\n92,越\\n93,生命\\n94,越\\n95,厚度\\n96,狗狗币\\n97,值得\\n98,长期\\n99,持有\\n100,科普\\n101,财经\\n102,狗狗币\\n103,人生\\n104,想\\n105,努力\\n106,才能\\n107,真正\\n108,努力\\n109,这是\\n110,任何人\\n111,无法\\n112,逼迫\\n113,达到\\n114,目的\\n115,只能\\n116,出\\n117,内心\\n118,意愿\\n119,愁\\n120,2021\\n121,狗狗币\\n122,DOGE\\n123,涨到\\n124,$\\n125,评论\\n126,区\\n127,随机\\n128,100\\n129,每人\\n130,一万\\n131,狗狗币\\n132,一名\\n133,狗狗币\\n134,持有者\\n135,更是\\n136,一名\\n137,中国\\n138,坚决\\n139,抵制\\n140,Anonymous\\n141,一群\\n142,只会\\n143,嘴炮\\n144,跳梁小丑\\n145,忘记\\n146,中国\\n147,红客\\n148,吊打\\n149,最后\\n150,Fuck\\n151,Anonymous\\n152,比特币\\n153,以太坊\\n154,独家\\n155,见解\\n156,财经\\n157,狗狗币\\n158,人生\\n159,想\\n160,努力\\n161,才能\\n162,真正\\n163,努力\\n164,这是\\n165,任何人\\n166,无法\\n167,逼迫\\n168,达到\\n169,目的\\n170,只能\\n171,出\\n172,内心\\n173,意愿\\n174,愁\\n175,2021\\n176,独家\\n177,见解\\n178,财经\\n179,狗狗币\\n180,人生\\n181,想\\n182,努力\\n183,才能\\n184,真正\\n185,努力\\n186,这是\\n187,任何人\\n188,无法\\n189,逼迫\\n190,达到\\n191,目的\\n192,只能\\n193,出\\n194,内心\\n195,意愿\\n196,愁\\n197,2021\\n198,独家\\n199,见解\\n200,财经\\n201,狗狗币\\n202,人生\\n203,想\\n204,努力\\n205,才能\\n206,真正\\n207,努力\\n208,这是\\n209,任何人\\n210,无法\\n211,逼迫\\n212,达到\\n213,目的\\n214,只能\\n215,出\\n216,内心\\n217,意愿\\n218,愁\\n219,2021\\n220,好玩\\n221,建议\\n222,收藏\\n223,转发\\n224,用于\\n225,诋毁\\n226,猪猪\\n227,币\\n228,ue627pig\\n229,狗狗币\\n230,狗狗币\\n231,狗狗币\\n232,教主\\n233,战神\\n234,狗狗币\\n235,附币安\\n236,注册\\n237,地址\\n238,网页\\n239,链接\\n240,世界\\n241,上\\n242,事情\\n243,最\\n244,忌讳\\n245,十全十美\\n246,看\\n247,那天\\n248,上\\n249,月亮\\n250,圆满\\n251,马上\\n252,就要\\n253,亏厌\\n254,树上\\n255,果子\\n256,熟透\\n257,马上\\n258,就要\\n259,坠落\\n260,凡事\\n261,总要\\n262,稍\\n263,留\\n264,欠缺\\n265,才能\\n266,持恒\\n267,狗狗币\\n268,大涨\\n269,独家\\n270,见解\\n271,财经\\n272,看\\n273,狗狗币\\n274,会\\n275,遇上\\n276,顺境\\n277,会\\n278,遇上\\n279,逆境\\n280,所有\\n281,成功\\n282,路上\\n283,折磨\\n284,背后\\n285,隐藏\\n286,激励\\n287,奋发向上\\n288,动机\\n289,走\\n290,愁\\n291,聊\\n292,2021\\n293,独家\\n294,见解\\n295,财经\\n296,看\\n297,狗狗币\\n298,会\\n299,遇上\\n300,顺境\\n301,会\\n302,遇上\\n303,逆境\\n304,所有\\n305,成功\\n306,路上\\n307,折磨\\n308,背后\\n309,隐藏\\n310,激励\\n311,奋发向上\\n312,动机\\n313,走\\n314,愁\\n315,聊\\n316,2021\\n317,技术型\\n318,交易\\n319,派\\n320,挑战\\n321,币圈\\n322,一年\\n323,20\\n324,倍\\n325,第二周\\n326,新手\\n327,只能\\n328,开\\n329,满\\n330,五倍\\n331,杠杆\\n332,比特币\\n333,狗狗币\\n334,淘\\n335,宗主\\n336,_\\n337,马喆明\\n338,比特币\\n339,狗狗币\\n340,初入币\\n341,圈\\n342,瞎琢磨\\n343,学会\\n344,买币\\n345,学会\\n346,开\\n347,满\\n348,只能\\n349,五倍\\n350,杠杆\\n351,认真\\n352,倒腾\\n353,半月\\n354,定个\\n355,小\\n356,目标\\n357,一年\\n358,五到\\n359,十倍\\n360,行不行\\n361,ue627htmoon\\n362,狗狗币\\n363,空投\\n364,项目\\n365,htmoon\\n366,BAN\\n367,空投\\n368,人数\\n369,前\\n370,200\\n371,空投\\n372,数量\\n373,每人\\n374,666666\\n375,币\\n376,空投\\n377,日期\\n378,截止\\n379,6\\n380,10\\n381,关注\\n382,电竞\\n383,黑铁\\n384,搬运工\\n385,转发\\n386,评论\\n387,留\\n388,heco\\n389,火币\\n390,生态\\n391,链\\n392,地址\\n393,评论\\n394,合约\\n395,地址\\n396,0x7508D3b5ACBE551b45E469dC0F5c052415286f51\\n397,备注\\n398,空投\\n399,BANANACOIN\\n400,志愿者\\n401,提供\\n402,提供\\n403,家\\n404,人们\\n405,搬运工\\n406,搬运\\n407,投放\\n408,空投\\n409,香蕉\\n410,币\\n411,香蕉\\n412,币\\n413,感谢\\n414,关注\\n415,电竞\\n416,搬运\\n417,黑\\n418,铁工\\n419,电影\\n420,老源工\\n421,DOGE\\n422,上\\n423,月球\\n424,比特币\\n425,平哥\\n426,比特币\\n427,军\\n428,比特币\\n429,预言\\n430,帝\\n431,比特\\n432,财经网\\n433,官方\\n434,币圈\\n435,六六\\n436,狗狗币\\n437,教主\\n438,战神\\n439,比特币\\n440,军\\n441,大家\\n442,安安静静\\n443,撸\\n444,空投\\n445,不香\\n446,留\\n447,地址\\n448,立刻\\n449,投放\\n450,Coinbase\\n451,推出\\n452,狗狗币\\n453,交易\\n454,Coinbase\\n455,Pro\\n456,狗狗币\\n457,订单\\n458,目前\\n459,处于\\n460,完全\\n461,交易\\n462,模式\\n463,全球\\n464,最大\\n465,加密\\n466,货币\\n467,交易平台\\n468,Coinbase\\n469,周二\\n470,Pro\\n471,版\\n472,用户\\n473,提供\\n474,狗狗币\\n475,交易\\n476,服务\\n477,目前\\n478,Coinbase\\n479,Pro\\n480,平台\\n481,上\\n482,狗狗币\\n483,订单\\n484,目前\\n485,处于\\n486,完全\\n487,交易\\n488,模式\\n489,限价\\n490,单\\n491,市价\\n492,单\\n493,止损\\n494,单\\n495,现已\\n496,全部\\n497,可用\\n498,OCoinbase\\n499,Pro\\n500,狗狗币\\n501,订单\\n502,目前\\n503,处于\\n504,完全\\n505,交易\\n506,模式\\n507,科普\\n508,今天\\n509,一次性\\n510,狗狗币\\n511,底层\\n512,逻辑\\n513,清楚\\n514,带\\n515,一起\\n516,了解\\n517,下\\n518,财经\\n519,狗狗币\\n520,愁\\n521,谈\\n522,2021\\n523,独家\\n524,见解\\n525,丨\\n526,狗狗币\\n527,bitget\\n528,机会\\n529,人人\\n530,面前\\n531,平等\\n532,聪明者\\n533,把握\\n534,机会\\n535,愚者\\n536,丧失\\n537,机会\\n538,觉得\\n539,次\\n540,机会\\n541,好好\\n542,把握\\n543,时间\\n544,不\\n545,只\\n546,有感于\\n547,踏出\\n548,第一步\\n549,才\\n550,会\\n551,收获\\n552,万步\\n553,大家\\n554,共勉\\n555,区块\\n556,链\\n557,柏林\\n558,论币\\n559,独家\\n560,见解\\n561,丨\\n562,狗狗币\\n563,bitget\\n564,别人\\n565,看\\n566,毫无关系\\n567,活\\n568,别人\\n569,毫无关系\\n570,路上\\n571,见识\\n572,世界\\n573,途中\\n574,认清\\n575,大家\\n576,共勉\\n577,区块\\n578,链\\n579,柏林\\n580,论币\\n581,空狗\\n582,战况\\n583,马斯克\\n584,不好\\n585,使\\n586,大饼\\n587,空战\\n588,场场\\n589,精彩\\n590,跟上\\n591,百倍\\n592,实验室\\n593,赚米\\n594,呼吸\\n595,简单\\n596,狗狗币\\n597,比特币\\n598,科普\\n599,以太坊\\n600,狗狗币\\n601,未来\\n602,潜力\\n603,价值\\n604,这种\\n605,错综复杂\\n606,震荡\\n607,行情\\n608,中\\n609,以太\\n610,走\\n611,出来\\n612,科普\\n613,狗狗币\\n614,以太\\n615,分析\\n616,以太坊\\n617,狗狗币\\n618,区块\\n619,链老蟹\\n620,论币\\n621,今天\\n622,看到\\n623,新闻\\n624,想起\\n625,币圈\\n626,暴富\\n627,走运\\n628,一夜\\n629,暴富\\n630,不\\n631,懂得\\n632,去\\n633,提升\\n634,认知\\n635,最终\\n636,会\\n637,地方\\n638,钱\\n639,亏掉\\n640,损失\\n641,网页\\n642,链接\\n643,狗狗币\\n'"
      ]
     },
     "execution_count": 47,
     "metadata": {},
     "output_type": "execute_result"
    }
   ],
   "source": [
    "txt"
   ]
  },
  {
   "cell_type": "code",
   "execution_count": 48,
   "id": "8718c420",
   "metadata": {},
   "outputs": [],
   "source": [
    "from PIL import Image \n",
    "background = Image.open(\"doge1.jpg\")\n",
    "graph = np.array(background) "
   ]
  },
  {
   "cell_type": "code",
   "execution_count": 49,
   "id": "3398117b",
   "metadata": {},
   "outputs": [],
   "source": [
    "wcd=WordCloud(font_path=r'/Users/jin/Desktop/SEM_A/5507-data-acquisition/Group-Assignment/last-coding/SourceHanSansCN-Heavy.otf',\n",
    "              collocations=False,\n",
    "              width=500,\n",
    "              height=400,\n",
    "              background_color='white',\n",
    "              max_words=100,\n",
    "              mask=graph,\n",
    "              scale=1.5).generate(txt)"
   ]
  },
  {
   "cell_type": "code",
   "execution_count": 50,
   "id": "6a302a8c",
   "metadata": {},
   "outputs": [
    {
     "data": {
      "text/plain": [
       "<wordcloud.wordcloud.WordCloud at 0x119769e80>"
      ]
     },
     "execution_count": 50,
     "metadata": {},
     "output_type": "execute_result"
    }
   ],
   "source": [
    "wcd.generate(txt)"
   ]
  },
  {
   "cell_type": "code",
   "execution_count": 51,
   "id": "3077836f",
   "metadata": {},
   "outputs": [
    {
     "data": {
      "text/plain": [
       "<wordcloud.wordcloud.WordCloud at 0x119769e80>"
      ]
     },
     "execution_count": 51,
     "metadata": {},
     "output_type": "execute_result"
    }
   ],
   "source": [
    "wcd.to_file(r\"wordcloud0603.png\")"
   ]
  },
  {
   "cell_type": "code",
   "execution_count": 52,
   "id": "fe8bd528",
   "metadata": {},
   "outputs": [
    {
     "data": {
      "text/plain": [
       "<Figure size 432x288 with 0 Axes>"
      ]
     },
     "execution_count": 52,
     "metadata": {},
     "output_type": "execute_result"
    },
    {
     "data": {
      "text/plain": [
       "<Figure size 432x288 with 0 Axes>"
      ]
     },
     "metadata": {},
     "output_type": "display_data"
    }
   ],
   "source": [
    "plt.figure(\"jay\")\n",
    "# 以图片的形式显示词云"
   ]
  },
  {
   "cell_type": "code",
   "execution_count": 53,
   "id": "475302a0",
   "metadata": {},
   "outputs": [
    {
     "data": {
      "text/plain": [
       "<matplotlib.image.AxesImage at 0x11979edf0>"
      ]
     },
     "execution_count": 53,
     "metadata": {},
     "output_type": "execute_result"
    },
    {
     "data": {
      "image/png": "[encoded data removed]",
      "text/plain": [
       "<Figure size 432x288 with 1 Axes>"
      ]
     },
     "metadata": {
      "needs_background": "light"
     },
     "output_type": "display_data"
    }
   ],
   "source": [
    "plt.imshow(wcd)"
   ]
  },
  {
   "cell_type": "code",
   "execution_count": null,
   "id": "7f84f6ad",
   "metadata": {},
   "outputs": [],
   "source": []
  }
 ],
 "metadata": {
  "kernelspec": {
   "display_name": "Python 3",
   "language": "python",
   "name": "python3"
  },
  "language_info": {
   "codemirror_mode": {
    "name": "ipython",
    "version": 3
   },
   "file_extension": ".py",
   "mimetype": "text/x-python",
   "name": "python",
   "nbconvert_exporter": "python",
   "pygments_lexer": "ipython3",
   "version": "3.8.8"
  }
 },
 "nbformat": 4,
 "nbformat_minor": 5
}
